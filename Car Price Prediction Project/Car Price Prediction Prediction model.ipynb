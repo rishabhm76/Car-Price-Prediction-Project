{
 "cells": [
  {
   "cell_type": "markdown",
   "metadata": {},
   "source": [
    "# Import Libraries"
   ]
  },
  {
   "cell_type": "code",
   "execution_count": 1,
   "metadata": {},
   "outputs": [],
   "source": [
    "import numpy as np\n",
    "import pandas as pd\n",
    "import statsmodels.api as sm\n",
    "import matplotlib.pyplot as plt\n",
    "import seaborn as sns\n",
    "import joblib"
   ]
  },
  {
   "cell_type": "markdown",
   "metadata": {},
   "source": [
    "# Preprocessing data"
   ]
  },
  {
   "cell_type": "code",
   "execution_count": 2,
   "metadata": {},
   "outputs": [
    {
     "data": {
      "text/plain": [
       "PolynomialFeatures(degree=2, include_bias=True, interaction_only=False,\n",
       "                   order='C')"
      ]
     },
     "execution_count": 2,
     "metadata": {},
     "output_type": "execute_result"
    }
   ],
   "source": [
    "# import test data\n",
    "raw_data = pd.read_csv('Test_data.csv')\n",
    "\n",
    "# data cleaning\n",
    "data_cleaned = raw_data.copy()\n",
    "data_cleaned = data_cleaned[data_cleaned['EngineV']<10]\n",
    "data_cleaned = data_cleaned[data_cleaned['Mileage']<(4*np.std(data_cleaned['Mileage']))]\n",
    "\n",
    "# data transformation\n",
    "log_Engv = np.log(data_cleaned['EngineV'])\n",
    "data_cleaned['Log EngineV'] = log_Engv\n",
    "data_cleaned = data_cleaned.drop(['EngineV'], axis = 1)\n",
    "log_year = np.log(data_cleaned['Year'])\n",
    "data_cleaned['Log Year'] = log_year\n",
    "data_cleaned = data_cleaned.drop(['Year'], axis=1)\n",
    "\n",
    "# adding dummy variables\n",
    "data_dum = data_cleaned.copy()\n",
    "data_dum = data_dum.drop(['Model'], axis=1)\n",
    "data_dum = pd.get_dummies(data_dum, drop_first=True)\n",
    "\n",
    "# variable transformation to polynomial features\n",
    "from sklearn.linear_model import LinearRegression\n",
    "from sklearn.preprocessing import PolynomialFeatures\n",
    "\n",
    "poly = PolynomialFeatures(2)  # with degree 2\n",
    "x_poly = poly.fit_transform(data_dum)\n",
    "poly.fit(x_poly)"
   ]
  },
  {
   "cell_type": "markdown",
   "metadata": {},
   "source": [
    "# Load pre trained model of Polynomial regression"
   ]
  },
  {
   "cell_type": "code",
   "execution_count": 3,
   "metadata": {},
   "outputs": [],
   "source": [
    "filename = 'finalized_model_poly_reg.sav'\n",
    "loaded_model_poly_reg = joblib.load(filename)"
   ]
  },
  {
   "cell_type": "code",
   "execution_count": 4,
   "metadata": {},
   "outputs": [],
   "source": [
    "predictions_poly = np.exp(loaded_model_poly_reg.predict(x_poly))"
   ]
  },
  {
   "cell_type": "markdown",
   "metadata": {},
   "source": [
    "# Loading and predicting prices by using pre trained random forest model"
   ]
  },
  {
   "cell_type": "code",
   "execution_count": 5,
   "metadata": {},
   "outputs": [],
   "source": [
    "filename_rf = 'finalized_model_rf.sav'\n",
    "loaded_model_rf = joblib.load(filename_rf)"
   ]
  },
  {
   "cell_type": "code",
   "execution_count": 6,
   "metadata": {},
   "outputs": [],
   "source": [
    "predictions_rf = np.exp(loaded_model_rf.predict(data_dum))"
   ]
  },
  {
   "cell_type": "code",
   "execution_count": null,
   "metadata": {},
   "outputs": [],
   "source": []
  }
 ],
 "metadata": {
  "kernelspec": {
   "display_name": "Python 3",
   "language": "python",
   "name": "python3"
  },
  "language_info": {
   "codemirror_mode": {
    "name": "ipython",
    "version": 3
   },
   "file_extension": ".py",
   "mimetype": "text/x-python",
   "name": "python",
   "nbconvert_exporter": "python",
   "pygments_lexer": "ipython3",
   "version": "3.7.4"
  }
 },
 "nbformat": 4,
 "nbformat_minor": 4
}
